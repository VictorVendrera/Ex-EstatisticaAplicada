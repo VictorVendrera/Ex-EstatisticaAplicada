{
 "cells": [
  {
   "cell_type": "code",
   "execution_count": 49,
   "metadata": {},
   "outputs": [],
   "source": [
    "import numpy as np"
   ]
  },
  {
   "cell_type": "code",
   "execution_count": 50,
   "metadata": {},
   "outputs": [
    {
     "name": "stdout",
     "output_type": "stream",
     "text": [
      "Quartil1: 4.0  Quartil3: 7.0  Decil4: 5.0  Quintil4: 7.0  Porcentil60: 5.0\n"
     ]
    }
   ],
   "source": [
    "#######################################################Exercicio1############################################################## \n",
    "notas = [2,2,2,4,4,4,4,4,5,5,5,5,5,5,5,5,7,7,7,7,7,7,10,10]\n",
    "q1 = np.quantile(notas,0.25)\n",
    "q3 = np.quantile(notas, 0.75)\n",
    "d4 = np.percentile(notas, 40)\n",
    "k4 = np.percentile(notas, 80)\n",
    "p60 = np.percentile(notas, 60)\n",
    "print(\"Quartil1:\",q1,\" Quartil3:\",q3,\" Decil4:\",d4,\" Quintil4:\",k4,\" Porcentil60:\",p60)"
   ]
  },
  {
   "cell_type": "code",
   "execution_count": 51,
   "metadata": {},
   "outputs": [
    {
     "name": "stdout",
     "output_type": "stream",
     "text": [
      "Decil1: 1.0  Decil9: 4.0  Quartil1: 2.0  Quartil3: 4.0\n"
     ]
    }
   ],
   "source": [
    "#######################################################Exercicio2##############################################################\n",
    "filhotes = [0,1,1,1,1,2,2,2,2,2,2,3,3,3,3,3,3,3,3,3,3,4,4,4,4,4,4,4,5,5]\n",
    "d1 = np.percentile(filhotes, 10)\n",
    "d9 = np.percentile(filhotes, 90)\n",
    "q1 = np.quantile(filhotes,0.25)\n",
    "q3 = np.quantile(filhotes, 0.75)\n",
    "print(\"Decil1:\",d1,\" Decil9:\",d9,\" Quartil1:\",q1,\" Quartil3:\",q3,)"
   ]
  },
  {
   "cell_type": "code",
   "execution_count": 52,
   "metadata": {},
   "outputs": [
    {
     "name": "stdout",
     "output_type": "stream",
     "text": [
      "Porcentil27: 65.0  decil8 76.4\n"
     ]
    }
   ],
   "source": [
    "#######################################################Exercicio3##############################################################\n",
    "peso = [58,61,61,65,65,66,66,67,67,68,71,71,71,72,73,80,90,100,55,50,47,78,98,65,69,82,72,68,61,76]\n",
    "p27 = np.percentile(peso, 27)\n",
    "d8 = np.percentile(peso, 80)\n",
    "print(\"Porcentil27:\",p27,\" decil8\",d8)"
   ]
  }
 ],
 "metadata": {
  "kernelspec": {
   "display_name": "Python 3",
   "language": "python",
   "name": "python3"
  },
  "language_info": {
   "codemirror_mode": {
    "name": "ipython",
    "version": 3
   },
   "file_extension": ".py",
   "mimetype": "text/x-python",
   "name": "python",
   "nbconvert_exporter": "python",
   "pygments_lexer": "ipython3",
   "version": "3.6.13"
  }
 },
 "nbformat": 4,
 "nbformat_minor": 5
}
