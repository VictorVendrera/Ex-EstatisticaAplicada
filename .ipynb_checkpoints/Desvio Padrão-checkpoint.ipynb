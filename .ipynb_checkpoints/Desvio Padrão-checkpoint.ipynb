{
 "cells": [
  {
   "cell_type": "code",
   "execution_count": 124,
   "metadata": {},
   "outputs": [],
   "source": [
    "import pandas as pd \n",
    "import numpy as np\n",
    "from math import sqrt\n",
    "import statistics"
   ]
  },
  {
   "cell_type": "code",
   "execution_count": 90,
   "metadata": {},
   "outputs": [],
   "source": [
    "#--------------------------------------------------Exercicio 1\n",
    "#Construindo o Df\n",
    "data = np.array([[2,3],\n",
    "                 [4,5],\n",
    "                 [5,8],\n",
    "                 [7,6],\n",
    "                 [10,2]])\n",
    "df = pd.DataFrame(data,columns=[\"Notas(xi)\",\"fi\"])\n",
    "\n",
    "df['xi.fi'] = df['Notas(xi)']*df['fi']"
   ]
  },
  {
   "cell_type": "code",
   "execution_count": 91,
   "metadata": {},
   "outputs": [
    {
     "data": {
      "text/html": [
       "<div>\n",
       "<style scoped>\n",
       "    .dataframe tbody tr th:only-of-type {\n",
       "        vertical-align: middle;\n",
       "    }\n",
       "\n",
       "    .dataframe tbody tr th {\n",
       "        vertical-align: top;\n",
       "    }\n",
       "\n",
       "    .dataframe thead th {\n",
       "        text-align: right;\n",
       "    }\n",
       "</style>\n",
       "<table border=\"1\" class=\"dataframe\">\n",
       "  <thead>\n",
       "    <tr style=\"text-align: right;\">\n",
       "      <th></th>\n",
       "      <th>Notas(xi)</th>\n",
       "      <th>fi</th>\n",
       "      <th>xi.fi</th>\n",
       "    </tr>\n",
       "  </thead>\n",
       "  <tbody>\n",
       "    <tr>\n",
       "      <th>0</th>\n",
       "      <td>2</td>\n",
       "      <td>3</td>\n",
       "      <td>6</td>\n",
       "    </tr>\n",
       "    <tr>\n",
       "      <th>1</th>\n",
       "      <td>4</td>\n",
       "      <td>5</td>\n",
       "      <td>20</td>\n",
       "    </tr>\n",
       "    <tr>\n",
       "      <th>2</th>\n",
       "      <td>5</td>\n",
       "      <td>8</td>\n",
       "      <td>40</td>\n",
       "    </tr>\n",
       "    <tr>\n",
       "      <th>3</th>\n",
       "      <td>7</td>\n",
       "      <td>6</td>\n",
       "      <td>42</td>\n",
       "    </tr>\n",
       "    <tr>\n",
       "      <th>4</th>\n",
       "      <td>10</td>\n",
       "      <td>2</td>\n",
       "      <td>20</td>\n",
       "    </tr>\n",
       "    <tr>\n",
       "      <th>5</th>\n",
       "      <td>Total</td>\n",
       "      <td>24</td>\n",
       "      <td>128</td>\n",
       "    </tr>\n",
       "  </tbody>\n",
       "</table>\n",
       "</div>"
      ],
      "text/plain": [
       "  Notas(xi)  fi  xi.fi\n",
       "0         2   3      6\n",
       "1         4   5     20\n",
       "2         5   8     40\n",
       "3         7   6     42\n",
       "4        10   2     20\n",
       "5     Total  24    128"
      ]
     },
     "execution_count": 91,
     "metadata": {},
     "output_type": "execute_result"
    }
   ],
   "source": [
    "#Somando o total\n",
    "## Lista e variavel auxiliar\n",
    "soma1 = 0\n",
    "soma2 = 0\n",
    "for i in df['fi']:\n",
    "    soma1 += i \n",
    "for i in df['xi.fi']:\n",
    "    soma2 += i\n",
    "df.loc[5] = [\"Total\",soma1,soma2]\n",
    "df"
   ]
  },
  {
   "cell_type": "code",
   "execution_count": 48,
   "metadata": {},
   "outputs": [
    {
     "data": {
      "text/plain": [
       "2.0749832663314556"
      ]
     },
     "execution_count": 48,
     "metadata": {},
     "output_type": "execute_result"
    }
   ],
   "source": [
    "media = df.iloc[5,2]/df.iloc[5,1] #\n",
    "desvioPadrao = sqrt(((3*((2-media)**2))+(5*((4-media)**2))+(8*((5-media)**2))+(6*((7-media)**2))+(2*((10-media)**2)))/ df.iloc[5,1])\n",
    "desvioPadrao"
   ]
  },
  {
   "cell_type": "code",
   "execution_count": 49,
   "metadata": {},
   "outputs": [
    {
     "data": {
      "text/html": [
       "<div>\n",
       "<style scoped>\n",
       "    .dataframe tbody tr th:only-of-type {\n",
       "        vertical-align: middle;\n",
       "    }\n",
       "\n",
       "    .dataframe tbody tr th {\n",
       "        vertical-align: top;\n",
       "    }\n",
       "\n",
       "    .dataframe thead th {\n",
       "        text-align: right;\n",
       "    }\n",
       "</style>\n",
       "<table border=\"1\" class=\"dataframe\">\n",
       "  <thead>\n",
       "    <tr style=\"text-align: right;\">\n",
       "      <th></th>\n",
       "      <th>Notas(xi)</th>\n",
       "      <th>fi</th>\n",
       "      <th>xi.fi</th>\n",
       "    </tr>\n",
       "  </thead>\n",
       "  <tbody>\n",
       "    <tr>\n",
       "      <th>0</th>\n",
       "      <td>2</td>\n",
       "      <td>3</td>\n",
       "      <td>6</td>\n",
       "    </tr>\n",
       "    <tr>\n",
       "      <th>1</th>\n",
       "      <td>4</td>\n",
       "      <td>5</td>\n",
       "      <td>20</td>\n",
       "    </tr>\n",
       "    <tr>\n",
       "      <th>2</th>\n",
       "      <td>5</td>\n",
       "      <td>8</td>\n",
       "      <td>40</td>\n",
       "    </tr>\n",
       "    <tr>\n",
       "      <th>3</th>\n",
       "      <td>7</td>\n",
       "      <td>6</td>\n",
       "      <td>42</td>\n",
       "    </tr>\n",
       "    <tr>\n",
       "      <th>4</th>\n",
       "      <td>10</td>\n",
       "      <td>2</td>\n",
       "      <td>20</td>\n",
       "    </tr>\n",
       "    <tr>\n",
       "      <th>5</th>\n",
       "      <td>Total:</td>\n",
       "      <td>24</td>\n",
       "      <td>128</td>\n",
       "    </tr>\n",
       "  </tbody>\n",
       "</table>\n",
       "</div>"
      ],
      "text/plain": [
       "  Notas(xi)  fi  xi.fi\n",
       "0         2   3      6\n",
       "1         4   5     20\n",
       "2         5   8     40\n",
       "3         7   6     42\n",
       "4        10   2     20\n",
       "5   Total:   24    128"
      ]
     },
     "execution_count": 49,
     "metadata": {},
     "output_type": "execute_result"
    }
   ],
   "source": [
    "df\n"
   ]
  },
  {
   "cell_type": "code",
   "execution_count": 58,
   "metadata": {},
   "outputs": [],
   "source": [
    "#-------------------------------------------------------Exercicio2--------------------------------------------------------\n",
    "## Lista e variavel auxiliar\n",
    "soma1 = 0\n",
    "soma2 = 0\n",
    "data = np.array([['0|---2',12],\n",
    "                 ['2|---4',15],\n",
    "                 ['4|---6',21]])\n",
    "df = pd.DataFrame(data,columns=[\"ConsumoKg\",\"fi\"])\n",
    "df[\"xi\"] = [1,3,5]\n",
    "df['fi'] = df['fi'].astype('int64')\n",
    "df['xi.fi'] = df['xi']*df['fi']\n",
    "\n",
    "for i in df['fi']:\n",
    "    soma1 += i \n",
    "for i in df['xi.fi']:\n",
    "    soma2 += i\n",
    "df.loc[3] = [\"Total: \", soma1,\"\", soma2]"
   ]
  },
  {
   "cell_type": "code",
   "execution_count": 67,
   "metadata": {},
   "outputs": [
    {
     "data": {
      "text/plain": [
       "1.6153559979150107"
      ]
     },
     "execution_count": 67,
     "metadata": {},
     "output_type": "execute_result"
    }
   ],
   "source": [
    "media = df.iloc[3,3]/df.iloc[3,1] #\n",
    "desvioPadrao = sqrt(((12*((1-media)**2))+(15*((3-media)**2))+(21*((5-media)**2)))/df.iloc[3,1])\n",
    "desvioPadrao"
   ]
  },
  {
   "cell_type": "code",
   "execution_count": 63,
   "metadata": {},
   "outputs": [
    {
     "data": {
      "text/html": [
       "<div>\n",
       "<style scoped>\n",
       "    .dataframe tbody tr th:only-of-type {\n",
       "        vertical-align: middle;\n",
       "    }\n",
       "\n",
       "    .dataframe tbody tr th {\n",
       "        vertical-align: top;\n",
       "    }\n",
       "\n",
       "    .dataframe thead th {\n",
       "        text-align: right;\n",
       "    }\n",
       "</style>\n",
       "<table border=\"1\" class=\"dataframe\">\n",
       "  <thead>\n",
       "    <tr style=\"text-align: right;\">\n",
       "      <th></th>\n",
       "      <th>ConsumoKg</th>\n",
       "      <th>fi</th>\n",
       "      <th>xi</th>\n",
       "      <th>xi.fi</th>\n",
       "    </tr>\n",
       "  </thead>\n",
       "  <tbody>\n",
       "    <tr>\n",
       "      <th>0</th>\n",
       "      <td>0|---2</td>\n",
       "      <td>12</td>\n",
       "      <td>1</td>\n",
       "      <td>12</td>\n",
       "    </tr>\n",
       "    <tr>\n",
       "      <th>1</th>\n",
       "      <td>2|---4</td>\n",
       "      <td>15</td>\n",
       "      <td>3</td>\n",
       "      <td>45</td>\n",
       "    </tr>\n",
       "    <tr>\n",
       "      <th>2</th>\n",
       "      <td>4|---6</td>\n",
       "      <td>21</td>\n",
       "      <td>5</td>\n",
       "      <td>105</td>\n",
       "    </tr>\n",
       "    <tr>\n",
       "      <th>3</th>\n",
       "      <td>Total:</td>\n",
       "      <td>48</td>\n",
       "      <td></td>\n",
       "      <td>162</td>\n",
       "    </tr>\n",
       "  </tbody>\n",
       "</table>\n",
       "</div>"
      ],
      "text/plain": [
       "  ConsumoKg  fi xi  xi.fi\n",
       "0    0|---2  12  1     12\n",
       "1    2|---4  15  3     45\n",
       "2    4|---6  21  5    105\n",
       "3   Total:   48       162"
      ]
     },
     "execution_count": 63,
     "metadata": {},
     "output_type": "execute_result"
    }
   ],
   "source": [
    "df"
   ]
  },
  {
   "cell_type": "code",
   "execution_count": 71,
   "metadata": {},
   "outputs": [],
   "source": [
    "#---------------------------------------------Exercicio3\n",
    "## Lista e variavel auxiliar\n",
    "soma1 = 0\n",
    "soma2 = 0\n",
    "data = np.array([['0|---2',5],\n",
    "                 ['2|---4',22],\n",
    "                 ['4|---6',10],\n",
    "                 ['6|---8',3],\n",
    "                 ['8|---10',10]])\n",
    "df = pd.DataFrame(data,columns=[\"Notas\",\"fi\"])\n",
    "df[\"xi\"] = [1,3,5,7,9]\n",
    "df['fi'] = df['fi'].astype('int64')\n",
    "df['xi.fi'] = df['xi']*df['fi']\n",
    "\n",
    "for i in df['fi']:\n",
    "    soma1 += i \n",
    "for i in df['xi.fi']:\n",
    "    soma2 += i\n",
    "df.loc[5] = [\"Total: \", soma1,\"\", soma2]"
   ]
  },
  {
   "cell_type": "code",
   "execution_count": 74,
   "metadata": {},
   "outputs": [
    {
     "data": {
      "text/plain": [
       "2.5827117531772683"
      ]
     },
     "execution_count": 74,
     "metadata": {},
     "output_type": "execute_result"
    }
   ],
   "source": [
    "media = df.iloc[5,3]/df.iloc[5,1] #\n",
    "desvioPadrao = sqrt(((5*((1-media)**2))+(22*((3-media)**2))+(10*((5-media)**2))+(3*((7-media)**2))+(10*((9-media)**2)))/df.iloc[5,1])\n",
    "desvioPadrao"
   ]
  },
  {
   "cell_type": "code",
   "execution_count": 75,
   "metadata": {},
   "outputs": [
    {
     "data": {
      "text/html": [
       "<div>\n",
       "<style scoped>\n",
       "    .dataframe tbody tr th:only-of-type {\n",
       "        vertical-align: middle;\n",
       "    }\n",
       "\n",
       "    .dataframe tbody tr th {\n",
       "        vertical-align: top;\n",
       "    }\n",
       "\n",
       "    .dataframe thead th {\n",
       "        text-align: right;\n",
       "    }\n",
       "</style>\n",
       "<table border=\"1\" class=\"dataframe\">\n",
       "  <thead>\n",
       "    <tr style=\"text-align: right;\">\n",
       "      <th></th>\n",
       "      <th>Notas</th>\n",
       "      <th>fi</th>\n",
       "      <th>xi</th>\n",
       "      <th>xi.fi</th>\n",
       "    </tr>\n",
       "  </thead>\n",
       "  <tbody>\n",
       "    <tr>\n",
       "      <th>0</th>\n",
       "      <td>0|---2</td>\n",
       "      <td>5</td>\n",
       "      <td>1</td>\n",
       "      <td>5</td>\n",
       "    </tr>\n",
       "    <tr>\n",
       "      <th>1</th>\n",
       "      <td>2|---4</td>\n",
       "      <td>22</td>\n",
       "      <td>3</td>\n",
       "      <td>66</td>\n",
       "    </tr>\n",
       "    <tr>\n",
       "      <th>2</th>\n",
       "      <td>4|---6</td>\n",
       "      <td>10</td>\n",
       "      <td>5</td>\n",
       "      <td>50</td>\n",
       "    </tr>\n",
       "    <tr>\n",
       "      <th>3</th>\n",
       "      <td>6|---8</td>\n",
       "      <td>3</td>\n",
       "      <td>7</td>\n",
       "      <td>21</td>\n",
       "    </tr>\n",
       "    <tr>\n",
       "      <th>4</th>\n",
       "      <td>8|---10</td>\n",
       "      <td>10</td>\n",
       "      <td>9</td>\n",
       "      <td>90</td>\n",
       "    </tr>\n",
       "    <tr>\n",
       "      <th>5</th>\n",
       "      <td>Total:</td>\n",
       "      <td>50</td>\n",
       "      <td></td>\n",
       "      <td>232</td>\n",
       "    </tr>\n",
       "  </tbody>\n",
       "</table>\n",
       "</div>"
      ],
      "text/plain": [
       "     Notas  fi xi  xi.fi\n",
       "0   0|---2   5  1      5\n",
       "1   2|---4  22  3     66\n",
       "2   4|---6  10  5     50\n",
       "3   6|---8   3  7     21\n",
       "4  8|---10  10  9     90\n",
       "5  Total:   50       232"
      ]
     },
     "execution_count": 75,
     "metadata": {},
     "output_type": "execute_result"
    }
   ],
   "source": [
    "df"
   ]
  },
  {
   "cell_type": "code",
   "execution_count": 77,
   "metadata": {},
   "outputs": [],
   "source": [
    "#--------------------------------------------------Exercicio4\n",
    "soma1 = 0\n",
    "soma2 = 0\n",
    "data = np.array([['0|---50',10],\n",
    "                 ['50|---100',28],\n",
    "                 ['100|---150',12],\n",
    "                 ['150|---200',2],\n",
    "                 ['200|---250',1],\n",
    "                 ['250|---300',1]])\n",
    "df = pd.DataFrame(data,columns=[\"Consumo por nota\",\"fi\"])\n",
    "df[\"xi\"] = [25,75,125,175,225,275]\n",
    "df['fi'] = df['fi'].astype('int64')\n",
    "df['xi.fi'] = df['xi']*df['fi']\n",
    "\n",
    "for i in df['fi']:\n",
    "    soma1 += i \n",
    "for i in df['xi.fi']:\n",
    "    soma2 += i\n",
    "df.loc[6] = [\"Total: \", soma1,\"\", soma2]"
   ]
  },
  {
   "cell_type": "code",
   "execution_count": 79,
   "metadata": {},
   "outputs": [
    {
     "data": {
      "text/plain": [
       "49.004143045923115"
      ]
     },
     "execution_count": 79,
     "metadata": {},
     "output_type": "execute_result"
    }
   ],
   "source": [
    "media = df.iloc[6,3]/df.iloc[6,1] #\n",
    "desvioPadrao = sqrt(((10*((25-media)**2))+(28*((75-media)**2))+(12*((125-media)**2))+(2*((175-media)**2))+(1*((225-media)**2))+(1*((275-media)**2)))/df.iloc[6,1])\n",
    "desvioPadrao"
   ]
  },
  {
   "cell_type": "code",
   "execution_count": 80,
   "metadata": {},
   "outputs": [
    {
     "data": {
      "text/html": [
       "<div>\n",
       "<style scoped>\n",
       "    .dataframe tbody tr th:only-of-type {\n",
       "        vertical-align: middle;\n",
       "    }\n",
       "\n",
       "    .dataframe tbody tr th {\n",
       "        vertical-align: top;\n",
       "    }\n",
       "\n",
       "    .dataframe thead th {\n",
       "        text-align: right;\n",
       "    }\n",
       "</style>\n",
       "<table border=\"1\" class=\"dataframe\">\n",
       "  <thead>\n",
       "    <tr style=\"text-align: right;\">\n",
       "      <th></th>\n",
       "      <th>Consumo por nota</th>\n",
       "      <th>fi</th>\n",
       "      <th>xi</th>\n",
       "      <th>xi.fi</th>\n",
       "    </tr>\n",
       "  </thead>\n",
       "  <tbody>\n",
       "    <tr>\n",
       "      <th>0</th>\n",
       "      <td>0|---50</td>\n",
       "      <td>10</td>\n",
       "      <td>25</td>\n",
       "      <td>250</td>\n",
       "    </tr>\n",
       "    <tr>\n",
       "      <th>1</th>\n",
       "      <td>50|---100</td>\n",
       "      <td>28</td>\n",
       "      <td>75</td>\n",
       "      <td>2100</td>\n",
       "    </tr>\n",
       "    <tr>\n",
       "      <th>2</th>\n",
       "      <td>100|---150</td>\n",
       "      <td>12</td>\n",
       "      <td>125</td>\n",
       "      <td>1500</td>\n",
       "    </tr>\n",
       "    <tr>\n",
       "      <th>3</th>\n",
       "      <td>150|---200</td>\n",
       "      <td>2</td>\n",
       "      <td>175</td>\n",
       "      <td>350</td>\n",
       "    </tr>\n",
       "    <tr>\n",
       "      <th>4</th>\n",
       "      <td>200|---250</td>\n",
       "      <td>1</td>\n",
       "      <td>225</td>\n",
       "      <td>225</td>\n",
       "    </tr>\n",
       "    <tr>\n",
       "      <th>5</th>\n",
       "      <td>250|---300</td>\n",
       "      <td>1</td>\n",
       "      <td>275</td>\n",
       "      <td>275</td>\n",
       "    </tr>\n",
       "    <tr>\n",
       "      <th>6</th>\n",
       "      <td>Total:</td>\n",
       "      <td>54</td>\n",
       "      <td></td>\n",
       "      <td>4700</td>\n",
       "    </tr>\n",
       "  </tbody>\n",
       "</table>\n",
       "</div>"
      ],
      "text/plain": [
       "  Consumo por nota  fi   xi  xi.fi\n",
       "0          0|---50  10   25    250\n",
       "1        50|---100  28   75   2100\n",
       "2       100|---150  12  125   1500\n",
       "3       150|---200   2  175    350\n",
       "4       200|---250   1  225    225\n",
       "5       250|---300   1  275    275\n",
       "6          Total:   54        4700"
      ]
     },
     "execution_count": 80,
     "metadata": {},
     "output_type": "execute_result"
    }
   ],
   "source": [
    "df\n"
   ]
  },
  {
   "cell_type": "code",
   "execution_count": 86,
   "metadata": {},
   "outputs": [],
   "source": [
    "#---------------------------------------------------Exercicio5\n",
    "soma1 = 0\n",
    "soma2 = 0\n",
    "data = np.array([['0|---20',5],\n",
    "                 ['20|---40',25],\n",
    "                 ['40|---60',40],\n",
    "                 ['60|---80',15],\n",
    "                 ['80|---100',10],\n",
    "                 ['100|---120',5]])\n",
    "df = pd.DataFrame(data,columns=[\"Nª de televisores/dia\",\"fi\"])\n",
    "df[\"xi\"] = [10,30,50,70,90,110]\n",
    "df['fi'] = df['fi'].astype('int64')\n",
    "df['xi.fi'] = df['xi']*df['fi']\n",
    "\n",
    "for i in df['fi']:\n",
    "    soma1 += i \n",
    "for i in df['xi.fi']:\n",
    "    soma2 += i\n",
    "df.loc[6] = [\"Total: \", soma1,\"\", soma2]"
   ]
  },
  {
   "cell_type": "code",
   "execution_count": 88,
   "metadata": {},
   "outputs": [
    {
     "data": {
      "text/plain": [
       "23.895606290697042"
      ]
     },
     "execution_count": 88,
     "metadata": {},
     "output_type": "execute_result"
    }
   ],
   "source": [
    "media = df.iloc[6,3]/df.iloc[6,1] #\n",
    "desvioPadrao = sqrt(((5*((10-media)**2))+(25*((30-media)**2))+(40*((50-media)**2))+(15*((70-media)**2))+(10*((90-media)**2))+(5*((110-media)**2)))/df.iloc[6,1])\n",
    "desvioPadrao"
   ]
  },
  {
   "cell_type": "code",
   "execution_count": 87,
   "metadata": {},
   "outputs": [
    {
     "data": {
      "text/html": [
       "<div>\n",
       "<style scoped>\n",
       "    .dataframe tbody tr th:only-of-type {\n",
       "        vertical-align: middle;\n",
       "    }\n",
       "\n",
       "    .dataframe tbody tr th {\n",
       "        vertical-align: top;\n",
       "    }\n",
       "\n",
       "    .dataframe thead th {\n",
       "        text-align: right;\n",
       "    }\n",
       "</style>\n",
       "<table border=\"1\" class=\"dataframe\">\n",
       "  <thead>\n",
       "    <tr style=\"text-align: right;\">\n",
       "      <th></th>\n",
       "      <th>Nª de televisores/dia</th>\n",
       "      <th>fi</th>\n",
       "      <th>xi</th>\n",
       "      <th>xi.fi</th>\n",
       "    </tr>\n",
       "  </thead>\n",
       "  <tbody>\n",
       "    <tr>\n",
       "      <th>0</th>\n",
       "      <td>0|---20</td>\n",
       "      <td>5</td>\n",
       "      <td>10</td>\n",
       "      <td>50</td>\n",
       "    </tr>\n",
       "    <tr>\n",
       "      <th>1</th>\n",
       "      <td>20|---40</td>\n",
       "      <td>25</td>\n",
       "      <td>30</td>\n",
       "      <td>750</td>\n",
       "    </tr>\n",
       "    <tr>\n",
       "      <th>2</th>\n",
       "      <td>40|---60</td>\n",
       "      <td>40</td>\n",
       "      <td>50</td>\n",
       "      <td>2000</td>\n",
       "    </tr>\n",
       "    <tr>\n",
       "      <th>3</th>\n",
       "      <td>60|---80</td>\n",
       "      <td>15</td>\n",
       "      <td>70</td>\n",
       "      <td>1050</td>\n",
       "    </tr>\n",
       "    <tr>\n",
       "      <th>4</th>\n",
       "      <td>80|---100</td>\n",
       "      <td>10</td>\n",
       "      <td>90</td>\n",
       "      <td>900</td>\n",
       "    </tr>\n",
       "    <tr>\n",
       "      <th>5</th>\n",
       "      <td>100|---120</td>\n",
       "      <td>5</td>\n",
       "      <td>110</td>\n",
       "      <td>550</td>\n",
       "    </tr>\n",
       "    <tr>\n",
       "      <th>6</th>\n",
       "      <td>Total:</td>\n",
       "      <td>100</td>\n",
       "      <td></td>\n",
       "      <td>5300</td>\n",
       "    </tr>\n",
       "  </tbody>\n",
       "</table>\n",
       "</div>"
      ],
      "text/plain": [
       "  Nª de televisores/dia   fi   xi  xi.fi\n",
       "0               0|---20    5   10     50\n",
       "1              20|---40   25   30    750\n",
       "2              40|---60   40   50   2000\n",
       "3              60|---80   15   70   1050\n",
       "4             80|---100   10   90    900\n",
       "5            100|---120    5  110    550\n",
       "6               Total:   100        5300"
      ]
     },
     "execution_count": 87,
     "metadata": {},
     "output_type": "execute_result"
    }
   ],
   "source": [
    "df"
   ]
  },
  {
   "cell_type": "code",
   "execution_count": 95,
   "metadata": {},
   "outputs": [
    {
     "data": {
      "text/plain": [
       "1.2801909579781015"
      ]
     },
     "execution_count": 95,
     "metadata": {},
     "output_type": "execute_result"
    }
   ],
   "source": [
    "#--------------------------------------------------Exercicio 6\n",
    "x = [12,11,10,9,8.5,11.5]\n",
    "x = sorted(x)\n",
    "desvioPadrao = statistics.pstdev(x) \n",
    "desvioPadrao"
   ]
  },
  {
   "cell_type": "code",
   "execution_count": null,
   "metadata": {},
   "outputs": [],
   "source": [
    "\n"
   ]
  },
  {
   "cell_type": "code",
   "execution_count": 126,
   "metadata": {},
   "outputs": [
    {
     "data": {
      "text/html": [
       "<div>\n",
       "<style scoped>\n",
       "    .dataframe tbody tr th:only-of-type {\n",
       "        vertical-align: middle;\n",
       "    }\n",
       "\n",
       "    .dataframe tbody tr th {\n",
       "        vertical-align: top;\n",
       "    }\n",
       "\n",
       "    .dataframe thead th {\n",
       "        text-align: right;\n",
       "    }\n",
       "</style>\n",
       "<table border=\"1\" class=\"dataframe\">\n",
       "  <thead>\n",
       "    <tr style=\"text-align: right;\">\n",
       "      <th></th>\n",
       "      <th>Gasolina</th>\n",
       "      <th>Alcóol</th>\n",
       "    </tr>\n",
       "  </thead>\n",
       "  <tbody>\n",
       "    <tr>\n",
       "      <th>0</th>\n",
       "      <td>2.61</td>\n",
       "      <td>1.90</td>\n",
       "    </tr>\n",
       "    <tr>\n",
       "      <th>1</th>\n",
       "      <td>2.64</td>\n",
       "      <td>1.79</td>\n",
       "    </tr>\n",
       "    <tr>\n",
       "      <th>2</th>\n",
       "      <td>2.56</td>\n",
       "      <td>1.88</td>\n",
       "    </tr>\n",
       "    <tr>\n",
       "      <th>3</th>\n",
       "      <td>2.61</td>\n",
       "      <td>1.81</td>\n",
       "    </tr>\n",
       "    <tr>\n",
       "      <th>4</th>\n",
       "      <td>2.60</td>\n",
       "      <td>1.88</td>\n",
       "    </tr>\n",
       "    <tr>\n",
       "      <th>5</th>\n",
       "      <td>2.58</td>\n",
       "      <td>1.84</td>\n",
       "    </tr>\n",
       "  </tbody>\n",
       "</table>\n",
       "</div>"
      ],
      "text/plain": [
       "   Gasolina  Alcóol\n",
       "0      2.61    1.90\n",
       "1      2.64    1.79\n",
       "2      2.56    1.88\n",
       "3      2.61    1.81\n",
       "4      2.60    1.88\n",
       "5      2.58    1.84"
      ]
     },
     "execution_count": 126,
     "metadata": {},
     "output_type": "execute_result"
    }
   ],
   "source": [
    "#-----------------------------------------------Exercicio 7 -------------------\n",
    "df = pd.DataFrame([2.61, 2.64, 2.56, 2.61, 2.60, 2.58])\n",
    "df[1] = [1.9, 1.79, 1.88, 1.81, 1.88, 1.84]\n",
    "df = df.rename(columns={0: 'Gasolina', 1: \"Alcóol\"})\n",
    "df"
   ]
  },
  {
   "cell_type": "code",
   "execution_count": null,
   "metadata": {},
   "outputs": [],
   "source": []
  }
 ],
 "metadata": {
  "kernelspec": {
   "display_name": "Python 3",
   "language": "python",
   "name": "python3"
  },
  "language_info": {
   "codemirror_mode": {
    "name": "ipython",
    "version": 3
   },
   "file_extension": ".py",
   "mimetype": "text/x-python",
   "name": "python",
   "nbconvert_exporter": "python",
   "pygments_lexer": "ipython3",
   "version": "3.8.3"
  }
 },
 "nbformat": 4,
 "nbformat_minor": 4
}
